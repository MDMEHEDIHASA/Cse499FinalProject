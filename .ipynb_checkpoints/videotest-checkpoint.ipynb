{
 "cells": [
  {
   "cell_type": "code",
   "execution_count": 5,
   "id": "fcabac15",
   "metadata": {},
   "outputs": [],
   "source": [
    "from keras.models import load_model\n",
    "from collections import deque\n",
    "import numpy as np\n",
    "import pickle\n",
    "import cv2"
   ]
  },
  {
   "cell_type": "code",
   "execution_count": 7,
   "id": "0daaeffb",
   "metadata": {},
   "outputs": [],
   "source": [
    "model = load_model('./threechecks.h5')\n",
    "lb = pickle.loads(open('./model/VideoClassificationBinarizer.pickle','rb').read())\n",
    "outputVideo = './Video_Classfication_Model/outputVideo/demo_output.mp4'\n",
    "mean = np.array([123.68,116.779,103.939][::1],dtype=\"float32\")\n",
    "Queue = deque(maxlen=128)"
   ]
  },
  {
   "cell_type": "code",
   "execution_count": 8,
   "id": "7448d8d7",
   "metadata": {},
   "outputs": [
    {
     "name": "stdout",
     "output_type": "stream",
     "text": [
      "[123.68  116.779 103.939]\n"
     ]
    }
   ],
   "source": [
    "print(mean)"
   ]
  },
  {
   "cell_type": "code",
   "execution_count": 9,
   "id": "3f53da28",
   "metadata": {},
   "outputs": [
    {
     "name": "stdout",
     "output_type": "stream",
     "text": [
      "['swimming' 'table_tennis' 'violence']\n"
     ]
    }
   ],
   "source": [
    "print(lb.classes_)"
   ]
  },
  {
   "cell_type": "code",
   "execution_count": 10,
   "id": "8443ba82",
   "metadata": {},
   "outputs": [],
   "source": [
    "import time"
   ]
  },
  {
   "cell_type": "code",
   "execution_count": 11,
   "id": "eba29ee5",
   "metadata": {},
   "outputs": [],
   "source": [
    "capture_video = cv2.VideoCapture(r'C:\\Users\\Asus\\Downloads\\villageFight.mp4')\n",
    "writer = None\n",
    "(width,height) = (None,None)\n",
    "while True:\n",
    "    (taken,frame) = capture_video.read()\n",
    "    if not taken:\n",
    "        break\n",
    "    if width is None or height is None:\n",
    "        width,height = frame.shape[:2]\n",
    "    output = frame.copy()\n",
    "    frame = cv2.cvtColor(frame,cv2.COLOR_BGR2RGB)\n",
    "    frame = cv2.resize(frame,(224,224)).astype(\"float32\")\n",
    "    frame -= mean\n",
    "    preds = model.predict(np.expand_dims(frame,axis=0))[0]\n",
    "    #print('PREd',preds)\n",
    "    Queue.append(preds)\n",
    "    results = np.array(Queue).mean(axis=0)\n",
    "    #print('Result',results)\n",
    "    i = np.argmax(results)\n",
    "    #print(\"I\",i)\n",
    "    label = lb.classes_[i]\n",
    "    #print('Label',label)\n",
    "    text = \"Involvement In:{}\".format(label)\n",
    "    cv2.putText(output,text,(45,60),cv2.FONT_HERSHEY_SIMPLEX,1.25,(255,255,10),5)\n",
    "    \n",
    "    if writer is None:\n",
    "        sz = (int(capture_video.get(cv2.CAP_PROP_FRAME_WIDTH)),\n",
    "        int(capture_video.get(cv2.CAP_PROP_FRAME_HEIGHT)))\n",
    "        fourcc = cv2.VideoWriter_fourcc(*'mpeg')\n",
    "        writer =  cv2.VideoWriter(outputVideo,fourcc,30,sz,True)\n",
    "    writer.write(output)\n",
    "    cv2.imshow(\"In progress\",output)\n",
    "    key = cv2.waitKey(1) & 0xFF\n",
    "    if key == ord('q'):\n",
    "        break\n",
    "writer.release()   \n",
    "capture_video.release()\n",
    "\n",
    "# Destroy all the windows\n",
    "cv2.destroyAllWindows()"
   ]
  },
  {
   "cell_type": "code",
   "execution_count": null,
   "id": "5fa222fe",
   "metadata": {},
   "outputs": [],
   "source": []
  },
  {
   "cell_type": "code",
   "execution_count": null,
   "id": "15983d20",
   "metadata": {},
   "outputs": [],
   "source": []
  },
  {
   "cell_type": "code",
   "execution_count": null,
   "id": "39027696",
   "metadata": {},
   "outputs": [],
   "source": []
  },
  {
   "cell_type": "code",
   "execution_count": null,
   "id": "633fd548",
   "metadata": {},
   "outputs": [],
   "source": []
  },
  {
   "cell_type": "code",
   "execution_count": null,
   "id": "cd5f4a4b",
   "metadata": {},
   "outputs": [],
   "source": []
  },
  {
   "cell_type": "code",
   "execution_count": null,
   "id": "f7cce87f",
   "metadata": {},
   "outputs": [],
   "source": []
  },
  {
   "cell_type": "code",
   "execution_count": null,
   "id": "7d9e0091",
   "metadata": {},
   "outputs": [],
   "source": []
  },
  {
   "cell_type": "code",
   "execution_count": null,
   "id": "3c321f14",
   "metadata": {},
   "outputs": [],
   "source": [
    "capture_video = cv2.VideoCapture('./V_1.mp4')\n",
    "writer = None\n",
    "(width,height) = (None,None)\n",
    "while True:\n",
    "    (taken,frame) = capture_video.read()\n",
    "    if not taken:\n",
    "        break\n",
    "    if width is None or height is None:\n",
    "        width,height = frame.shape[:2]\n",
    "    output = frame.copy()\n",
    "    frame = cv2.cvtColor(frame,cv2.COLOR_BGR2RGB)\n",
    "    frame = cv2.resize(frame,(224,224)).astype(\"float32\")\n",
    "    frame -= mean\n",
    "    preds = model.predict(np.expand_dims(frame,axis=0))[0]\n",
    "    print(preds)\n",
    "    Queue.append(preds)\n",
    "    results = np.array(Queue).mean(axis=0)\n",
    "    i = np.argmax(results)\n",
    "    label = lb.classes_[i]\n",
    "    text = \"Involvement In:{}\".format(label)\n",
    "    cv2.putText(output,text,(45,60),cv2.FONT_HERSHEY_SIMPLEX,1.25,(255,255,10),5)\n",
    "    \n",
    "    if writer is None:\n",
    "        fourcc= cv2.VideoWriter_fourcc(*'MJPG')\n",
    "        writer =  cv2.VideoWriter(outputVideo,fourcc,30,(width,height),True)\n",
    "    writer.write(output)\n",
    "    cv2.imshow(\"In progress\",output)\n",
    "    key = cv2.waitKey(1) & 0xFF\n",
    "    if key == ord('q'):\n",
    "        break\n",
    "writer.release()   \n",
    "capture_video.release()\n",
    "\n",
    "# Destroy all the windows\n",
    "cv2.destroyAllWindows()"
   ]
  },
  {
   "cell_type": "code",
   "execution_count": null,
   "id": "11c9c627",
   "metadata": {},
   "outputs": [],
   "source": []
  }
 ],
 "metadata": {
  "kernelspec": {
   "display_name": "Python 3",
   "language": "python",
   "name": "python3"
  },
  "language_info": {
   "codemirror_mode": {
    "name": "ipython",
    "version": 3
   },
   "file_extension": ".py",
   "mimetype": "text/x-python",
   "name": "python",
   "nbconvert_exporter": "python",
   "pygments_lexer": "ipython3",
   "version": "3.8.8"
  }
 },
 "nbformat": 4,
 "nbformat_minor": 5
}
