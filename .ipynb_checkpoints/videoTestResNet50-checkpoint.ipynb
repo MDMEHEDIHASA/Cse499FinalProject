{
 "cells": [
  {
   "cell_type": "code",
   "execution_count": null,
   "id": "81ea87c3",
   "metadata": {},
   "outputs": [],
   "source": [
    "from keras.models import load_model\n",
    "from collections import deque\n",
    "import numpy as np\n",
    "import pickle\n",
    "import cv2"
   ]
  },
  {
   "cell_type": "code",
   "execution_count": null,
   "id": "72fcaca6",
   "metadata": {},
   "outputs": [],
   "source": [
    "model = load_model('./RS50model.h5')\n",
    "lb = pickle.loads(open('./modelRS50/VideoClassificationBinarizer.pickle','rb').read())\n",
    "outputVideo = './Video_Classfication_Model_RS50/outputVideo/demo_output.mp4'\n",
    "Queue = deque(maxlen=128)"
   ]
  },
  {
   "cell_type": "code",
   "execution_count": null,
   "id": "ebbe7668",
   "metadata": {},
   "outputs": [],
   "source": [
    "print(lb)"
   ]
  },
  {
   "cell_type": "code",
   "execution_count": null,
   "id": "35520c8b",
   "metadata": {},
   "outputs": [],
   "source": [
    "import time"
   ]
  },
  {
   "cell_type": "code",
   "execution_count": null,
   "id": "5982af02",
   "metadata": {},
   "outputs": [],
   "source": [
    "capture_video = cv2.VideoCapture(r'C:\\Users\\Asus\\Downloads\\villageFight.mp4')\n",
    "writer = None\n",
    "(width,height) = (None,None)\n",
    "while True:\n",
    "    (taken,frame) = capture_video.read()\n",
    "    if not taken:\n",
    "        break\n",
    "    if width is None or height is None:\n",
    "        width,height = frame.shape[:2]\n",
    "    output = frame.copy()\n",
    "    frame = cv2.cvtColor(frame,cv2.COLOR_BGR2RGB)\n",
    "    frame = cv2.resize(frame,(100,100)).astype(\"float32\")\n",
    "    #frame -= mean\n",
    "    preds = model.predict(np.expand_dims(frame,axis=0))[0]\n",
    "    #print('PREd',preds)\n",
    "    Queue.append(preds)\n",
    "    results = np.array(Queue).mean(axis=0)\n",
    "    #print('Result',results)\n",
    "    i = np.argmax(results)\n",
    "    #print(\"I\",i)\n",
    "    label = lb[i]\n",
    "    #print('Label',label)\n",
    "    text = \"Involvement In:{}\".format(label)\n",
    "    cv2.putText(output,text,(45,60),cv2.FONT_HERSHEY_SIMPLEX,1.25,(255,255,10),5)\n",
    "    \n",
    "    if writer is None:\n",
    "        sz = (int(capture_video.get(cv2.CAP_PROP_FRAME_WIDTH)),\n",
    "        int(capture_video.get(cv2.CAP_PROP_FRAME_HEIGHT)))\n",
    "        fourcc = cv2.VideoWriter_fourcc(*'mpeg')\n",
    "        writer =  cv2.VideoWriter(outputVideo,fourcc,30,sz,True)\n",
    "    writer.write(output)\n",
    "    cv2.imshow(\"In progress\",output)\n",
    "    key = cv2.waitKey(1) & 0xFF\n",
    "    if key == ord('q'):\n",
    "        break\n",
    "writer.release()   \n",
    "capture_video.release()\n",
    "\n",
    "# Destroy all the windows\n",
    "cv2.destroyAllWindows()"
   ]
  }
 ],
 "metadata": {
  "kernelspec": {
   "display_name": "Python 3",
   "language": "python",
   "name": "python3"
  },
  "language_info": {
   "codemirror_mode": {
    "name": "ipython",
    "version": 3
   },
   "file_extension": ".py",
   "mimetype": "text/x-python",
   "name": "python",
   "nbconvert_exporter": "python",
   "pygments_lexer": "ipython3",
   "version": "3.8.8"
  }
 },
 "nbformat": 4,
 "nbformat_minor": 5
}
